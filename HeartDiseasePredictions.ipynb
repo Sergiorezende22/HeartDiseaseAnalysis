{
 "cells": [
  {
   "cell_type": "markdown",
   "metadata": {},
   "source": [
    "# _PREDICTIONS HEART DISEASE DATA SET_\n",
    "\n",
    "<hr style=\"height:2px;\">\n",
    "\n",
    "[Official Link to the Data Set](https://archive.ics.uci.edu/ml/datasets/Heart+Disease)\n",
    "\n",
    "<br>"
   ]
  },
  {
   "cell_type": "markdown",
   "metadata": {},
   "source": [
    "## Sumary\n",
    "- [Preparing the ambient](#Preparing-the-ambient)"
   ]
  },
  {
   "cell_type": "markdown",
   "metadata": {},
   "source": [
    "<hr>\n",
    "\n",
    "## _Preparing the ambient_\n",
    "\n",
    "First, we need prepare the packages that we will use.\n",
    "The packages are \"DataFrames\", \"MLJ\", \"MLJLinearModels\", \"Plots\"."
   ]
  },
  {
   "cell_type": "code",
   "execution_count": 67,
   "metadata": {},
   "outputs": [
    {
     "name": "stderr",
     "output_type": "stream",
     "text": [
      "┌ Info: Precompiling MLJScikitLearnInterface [5ae90465-5518-4432-b9d2-8a1def2f0cab]\n",
      "└ @ Base loading.jl:1260\n",
      "┌ Info: Installing sklearn via the Conda scikit-learn package...\n",
      "└ @ PyCall C:\\Users\\yancf\\.julia\\packages\\PyCall\\zqDXB\\src\\PyCall.jl:697\n",
      "┌ Info: Running `conda install -y scikit-learn` in root environment\n",
      "└ @ Conda C:\\Users\\yancf\\.julia\\packages\\Conda\\3rPhK\\src\\Conda.jl:113\n"
     ]
    },
    {
     "name": "stdout",
     "output_type": "stream",
     "text": [
      "Collecting package metadata (current_repodata.json): ...working... done\n",
      "Solving environment: ...working... done\n",
      "\n",
      "## Package Plan ##\n",
      "\n",
      "  environment location: C:\\Users\\yancf\\.julia\\conda\\3\n",
      "\n",
      "  added / updated specs:\n",
      "    - scikit-learn\n",
      "\n",
      "\n",
      "The following packages will be downloaded:\n",
      "\n",
      "    package                    |            build\n",
      "    ---------------------------|-----------------\n",
      "    icc_rt-2019.0.0            |       h0cc432a_1         6.0 MB\n",
      "    joblib-0.16.0              |             py_0         210 KB\n",
      "    scikit-learn-0.23.1        |   py38h25d0782_0         4.7 MB\n",
      "    scipy-1.5.0                |   py38h9439919_0        12.0 MB\n",
      "    threadpoolctl-2.1.0        |     pyh5ca1d4c_0          17 KB\n",
      "    ------------------------------------------------------------\n",
      "                                           Total:        22.9 MB\n",
      "\n",
      "The following NEW packages will be INSTALLED:\n",
      "\n",
      "  icc_rt             pkgs/main/win-64::icc_rt-2019.0.0-h0cc432a_1\n",
      "  joblib             pkgs/main/noarch::joblib-0.16.0-py_0\n",
      "  scikit-learn       pkgs/main/win-64::scikit-learn-0.23.1-py38h25d0782_0\n",
      "  scipy              pkgs/main/win-64::scipy-1.5.0-py38h9439919_0\n",
      "  threadpoolctl      pkgs/main/noarch::threadpoolctl-2.1.0-pyh5ca1d4c_0\n",
      "\n",
      "\n",
      "\n",
      "Downloading and Extracting Packages\n",
      "threadpoolctl-2.1.0  | 17 KB     | ########## | 100% \n",
      "scipy-1.5.0          | 12.0 MB   | ########## | 100% \n",
      "scikit-learn-0.23.1  | 4.7 MB    | ########## | 100% \n",
      "icc_rt-2019.0.0      | 6.0 MB    | ########## | 100% \n",
      "joblib-0.16.0        | 210 KB    | ########## | 100% \n",
      "Preparing transaction: ...working... done\n",
      "Verifying transaction: ...working... done\n",
      "Executing transaction: ...working... done\n"
     ]
    },
    {
     "name": "stderr",
     "output_type": "stream",
     "text": [
      "WARNING: using MLJScikitLearnInterface.HuberRegressor in module Main conflicts with an existing identifier.\n",
      "WARNING: using MLJScikitLearnInterface.LassoRegressor in module Main conflicts with an existing identifier.\n",
      "WARNING: using MLJScikitLearnInterface.LogisticClassifier in module Main conflicts with an existing identifier.\n",
      "WARNING: using MLJScikitLearnInterface.RandomForestClassifier in module Main conflicts with an existing identifier.\n",
      "WARNING: using MLJScikitLearnInterface.ElasticNetRegressor in module Main conflicts with an existing identifier.\n",
      "WARNING: using MLJScikitLearnInterface.RandomForestRegressor in module Main conflicts with an existing identifier.\n",
      "WARNING: using MLJScikitLearnInterface.LinearRegressor in module Main conflicts with an existing identifier.\n",
      "WARNING: using MLJScikitLearnInterface.RidgeRegressor in module Main conflicts with an existing identifier.\n"
     ]
    }
   ],
   "source": [
    "using DataFrames, MLJ, MLJLinearModels, Plots, CSV, DecisionTree, MLJFlux, Flux, LIBSVM, ScikitLearn, MLJScikitLearnInterface;"
   ]
  },
  {
   "cell_type": "markdown",
   "metadata": {},
   "source": [
    "If some of the packages is not instaled in your computer just use:\n",
    "```julia\n",
    "    using Pkg;\n",
    "    Pkg.add(\"PackageName\");\n",
    "```   \n",
    "<br>\n",
    "\n",
    "[Back to the top](#Sumary)"
   ]
  },
  {
   "cell_type": "code",
   "execution_count": 41,
   "metadata": {},
   "outputs": [
    {
     "data": {
      "text/plain": [
       "trainer (generic function with 1 method)"
      ]
     },
     "execution_count": 41,
     "metadata": {},
     "output_type": "execute_result"
    }
   ],
   "source": [
    "function trainer(LRC_model, df::DataFrame, train::Array{Int, 1}, test::Array{Int, 1})\n",
    "    \n",
    "    # X and Y\n",
    "    y, X = unpack(df, ==(:target), colname -> true);\n",
    "    \n",
    "    # Training\n",
    "    LRC = machine(LRC_model, X, categorical(y));\n",
    "    MLJ.fit!(LRC, rows=train);\n",
    "\n",
    "    return LRC\n",
    "end"
   ]
  },
  {
   "cell_type": "code",
   "execution_count": 5,
   "metadata": {},
   "outputs": [],
   "source": [
    "struct Evaluation\n",
    "    Accuracy::Float64\n",
    "    Recall::Float64\n",
    "    Precision::Float64\n",
    "    F1::Float64\n",
    "    MCC::Float64\n",
    "    ConfusionMatrix\n",
    "end"
   ]
  },
  {
   "cell_type": "code",
   "execution_count": 6,
   "metadata": {},
   "outputs": [
    {
     "data": {
      "text/plain": [
       "_evaluation (generic function with 1 method)"
      ]
     },
     "execution_count": 6,
     "metadata": {},
     "output_type": "execute_result"
    }
   ],
   "source": [
    "function _evaluation(LRC, df, test; binary=false)\n",
    "    # X and Y\n",
    "    y, X = unpack(df, ==(:target), colname -> true);\n",
    "    \n",
    "    ŷ = MLJ.predict(LRC, X[test,:]);\n",
    "    result = mode.(ŷ);\n",
    "    \n",
    "    # Accuracy\n",
    "    _accuracy = accuracy(result, categorical(y[test]));\n",
    "    \n",
    "    \n",
    "    # Confusion Matrix\n",
    "    _confusion_matrix = MLJ.confusion_matrix(result, categorical(y[test]));\n",
    "    \n",
    "    TN = _confusion_matrix[1];\n",
    "    FN = _confusion_matrix[2];\n",
    "    FP = _confusion_matrix[3];\n",
    "    TP = _confusion_matrix[4];\n",
    "    \n",
    "    # Recall\n",
    "    _recall = TP / (TP + FN)\n",
    "    _precision = TP / (TP + FP)\n",
    "    _f1 = (2 * _precision) / (_precision + _recall)\n",
    "    \n",
    "    _mcc = 0\n",
    "    if(binary)\n",
    "        _mcc = (TP * TN - FP * FN) / ((TP + FP)*(TP + FN)*(TN + FP)*(TN + FN))^(1/2)\n",
    "    end\n",
    "    \n",
    "    return Evaluation(_accuracy, _recall, _precision, _f1, _mcc, _confusion_matrix)\n",
    "end"
   ]
  },
  {
   "cell_type": "markdown",
   "metadata": {},
   "source": [
    "# DataFrame"
   ]
  },
  {
   "cell_type": "code",
   "execution_count": 7,
   "metadata": {},
   "outputs": [],
   "source": [
    "cleveland = DataFrame(CSV.File(\"Data/AnalysisData/AnalysisData.data\"))\n",
    "\n",
    "# Categorical\n",
    "\n",
    "cleveland.sex = categorical(cleveland.sex);\n",
    "cleveland.cp = categorical(cleveland.cp);\n",
    "cleveland.fbs = categorical(cleveland.fbs);\n",
    "cleveland.restecg = categorical(cleveland.restecg);\n",
    "cleveland.exang = categorical(cleveland.exang);\n",
    "cleveland.slope = categorical(cleveland.slope);\n",
    "cleveland.thal = categorical(cleveland.thal);\n",
    "cleveland.target = categorical(cleveland.target);\n",
    "\n"
   ]
  },
  {
   "cell_type": "code",
   "execution_count": 8,
   "metadata": {},
   "outputs": [],
   "source": [
    " y, X = unpack(cleveland, ==(:target), colname -> true);\n",
    "train, test = partition(eachindex(y), 0.7, stratify=y);"
   ]
  },
  {
   "cell_type": "markdown",
   "metadata": {},
   "source": [
    "# Logistic Regression"
   ]
  },
  {
   "cell_type": "code",
   "execution_count": 9,
   "metadata": {
    "scrolled": true
   },
   "outputs": [
    {
     "name": "stderr",
     "output_type": "stream",
     "text": [
      "┌ Warning: The scitype of `X`, in `machine(model, X, ...)` \n",
      "└ @ MLJBase C:\\Users\\yancf\\.julia\\packages\\MLJBase\\8FWJ9\\src\\machines.jl:73\n",
      "┌ Info: Training \u001b[34mMachine{LogisticClassifier} @645\u001b[39m.\n",
      "└ @ MLJBase C:\\Users\\yancf\\.julia\\packages\\MLJBase\\8FWJ9\\src\\machines.jl:317\n",
      "┌ Warning: The classes are un-ordered,\n",
      "│ using: negative='0' and positive='1'.\n",
      "│ To suppress this warning, consider coercing to OrderedFactor.\n",
      "└ @ MLJBase C:\\Users\\yancf\\.julia\\packages\\MLJBase\\8FWJ9\\src\\measures\\confusion_matrix.jl:83\n"
     ]
    }
   ],
   "source": [
    "LRC_model =  MLJLinearModels.LogisticClassifier();\n",
    "LRC = trainer(LRC_model, cleveland, train, test);\n",
    "__evaLRC = _evaluation(LRC, cleveland, test; binary=true);"
   ]
  },
  {
   "cell_type": "code",
   "execution_count": 24,
   "metadata": {},
   "outputs": [
    {
     "data": {
      "text/plain": [
       "              ┌───────────────────────────┐\n",
       "              │       Ground Truth        │\n",
       "┌─────────────┼─────────────┬─────────────┤\n",
       "│  Predicted  │      0      │      1      │\n",
       "├─────────────┼─────────────┼─────────────┤\n",
       "│      0      │     44      │     12      │\n",
       "├─────────────┼─────────────┼─────────────┤\n",
       "│      1      │      4      │     29      │\n",
       "└─────────────┴─────────────┴─────────────┘\n"
      ]
     },
     "execution_count": 24,
     "metadata": {},
     "output_type": "execute_result"
    }
   ],
   "source": [
    "__evaLRC.ConfusionMatrix"
   ]
  },
  {
   "cell_type": "code",
   "execution_count": 10,
   "metadata": {},
   "outputs": [
    {
     "name": "stdout",
     "output_type": "stream",
     "text": [
      "Accuracy: 0.82\n",
      "Recall: 0.88\n",
      "Precision: 0.71\n",
      "F1: 0.89\n",
      "MCC: 0.64\n"
     ]
    }
   ],
   "source": [
    "println(\"Accuracy: $(round(__evaLRC.Accuracy, digits=2))\")\n",
    "println(\"Recall: $(round(__evaLRC.Recall, digits=2))\")\n",
    "println(\"Precision: $(round(__evaLRC.Precision, digits=2))\")\n",
    "println(\"F1: $(round(__evaLRC.F1, digits=2))\")\n",
    "println(\"MCC: $(round(__evaLRC.MCC, digits=2))\")"
   ]
  },
  {
   "cell_type": "markdown",
   "metadata": {},
   "source": [
    "# Tree"
   ]
  },
  {
   "cell_type": "code",
   "execution_count": 11,
   "metadata": {},
   "outputs": [
    {
     "name": "stderr",
     "output_type": "stream",
     "text": [
      "┌ Info: Model code for DecisionTreeClassifier already loaded\n",
      "└ @ MLJModels C:\\Users\\yancf\\.julia\\packages\\MLJModels\\5DFoi\\src\\loading.jl:54\n",
      "┌ Warning: The scitype of `X`, in `machine(model, X, ...)` \n",
      "└ @ MLJBase C:\\Users\\yancf\\.julia\\packages\\MLJBase\\8FWJ9\\src\\machines.jl:73\n",
      "┌ Info: Training \u001b[34mMachine{DecisionTreeClassifier} @460\u001b[39m.\n",
      "└ @ MLJBase C:\\Users\\yancf\\.julia\\packages\\MLJBase\\8FWJ9\\src\\machines.jl:317\n",
      "┌ Warning: The classes are un-ordered,\n",
      "│ using: negative='0' and positive='1'.\n",
      "│ To suppress this warning, consider coercing to OrderedFactor.\n",
      "└ @ MLJBase C:\\Users\\yancf\\.julia\\packages\\MLJBase\\8FWJ9\\src\\measures\\confusion_matrix.jl:83\n"
     ]
    }
   ],
   "source": [
    "Tree_model = @load DecisionTreeClassifier verbosity=1\n",
    "Tree = trainer(Tree_model, cleveland, train, test);\n",
    "__evaTree = _evaluation(Tree, cleveland, test; binary=true);"
   ]
  },
  {
   "cell_type": "code",
   "execution_count": 27,
   "metadata": {},
   "outputs": [
    {
     "data": {
      "text/plain": [
       "              ┌───────────────────────────┐\n",
       "              │       Ground Truth        │\n",
       "┌─────────────┼─────────────┬─────────────┤\n",
       "│  Predicted  │      0      │      1      │\n",
       "├─────────────┼─────────────┼─────────────┤\n",
       "│      0      │     39      │     15      │\n",
       "├─────────────┼─────────────┼─────────────┤\n",
       "│      1      │      9      │     26      │\n",
       "└─────────────┴─────────────┴─────────────┘\n"
      ]
     },
     "execution_count": 27,
     "metadata": {},
     "output_type": "execute_result"
    }
   ],
   "source": [
    "__evaTree.ConfusionMatrix"
   ]
  },
  {
   "cell_type": "code",
   "execution_count": 12,
   "metadata": {},
   "outputs": [
    {
     "name": "stdout",
     "output_type": "stream",
     "text": [
      "Accuracy: 0.73\n",
      "Recall: 0.74\n",
      "Precision: 0.63\n",
      "F1: 0.92\n",
      "MCC: 0.46\n"
     ]
    }
   ],
   "source": [
    "println(\"Accuracy: $(round(__evaTree.Accuracy, digits=2))\")\n",
    "println(\"Recall: $(round(__evaTree.Recall, digits=2))\")\n",
    "println(\"Precision: $(round(__evaTree.Precision, digits=2))\")\n",
    "println(\"F1: $(round(__evaTree.F1, digits=2))\")\n",
    "println(\"MCC: $(round(__evaTree.MCC, digits=2))\")"
   ]
  },
  {
   "cell_type": "markdown",
   "metadata": {},
   "source": [
    "# Neural Network"
   ]
  },
  {
   "cell_type": "code",
   "execution_count": 28,
   "metadata": {},
   "outputs": [
    {
     "name": "stderr",
     "output_type": "stream",
     "text": [
      "┌ Warning: The scitype of `X`, in `machine(model, X, ...)` \n",
      "└ @ MLJBase C:\\Users\\yancf\\.julia\\packages\\MLJBase\\8FWJ9\\src\\machines.jl:73\n",
      "┌ Info: Training \u001b[34mMachine{NeuralNetworkClassifier{Short,…}} @382\u001b[39m.\n",
      "└ @ MLJBase C:\\Users\\yancf\\.julia\\packages\\MLJBase\\8FWJ9\\src\\machines.jl:317\n",
      "\u001b[33mOptimising neural net:100%[=========================] Time: 0:00:00\u001b[39m\n",
      "┌ Warning: The classes are un-ordered,\n",
      "│ using: negative='0' and positive='1'.\n",
      "│ To suppress this warning, consider coercing to OrderedFactor.\n",
      "└ @ MLJBase C:\\Users\\yancf\\.julia\\packages\\MLJBase\\8FWJ9\\src\\measures\\confusion_matrix.jl:83\n"
     ]
    }
   ],
   "source": [
    "NNC_model = NeuralNetworkClassifier()\n",
    "NNC = trainer(NNC_model, cleveland, train, test);\n",
    "__evaNNC = _evaluation(NNC, cleveland, test; binary=true);"
   ]
  },
  {
   "cell_type": "code",
   "execution_count": 29,
   "metadata": {},
   "outputs": [
    {
     "data": {
      "text/plain": [
       "              ┌───────────────────────────┐\n",
       "              │       Ground Truth        │\n",
       "┌─────────────┼─────────────┬─────────────┤\n",
       "│  Predicted  │      0      │      1      │\n",
       "├─────────────┼─────────────┼─────────────┤\n",
       "│      0      │     38      │     27      │\n",
       "├─────────────┼─────────────┼─────────────┤\n",
       "│      1      │     10      │     14      │\n",
       "└─────────────┴─────────────┴─────────────┘\n"
      ]
     },
     "execution_count": 29,
     "metadata": {},
     "output_type": "execute_result"
    }
   ],
   "source": [
    "__evaNNC.ConfusionMatrix"
   ]
  },
  {
   "cell_type": "code",
   "execution_count": 23,
   "metadata": {},
   "outputs": [
    {
     "name": "stdout",
     "output_type": "stream",
     "text": [
      "Accuracy: 0.56\n",
      "Recall: 0.54\n",
      "Precision: 0.37\n",
      "F1: 0.81\n",
      "MCC: 0.1\n"
     ]
    }
   ],
   "source": [
    "println(\"Accuracy: $(round(__evaNNC.Accuracy, digits=2))\")\n",
    "println(\"Recall: $(round(__evaNNC.Recall, digits=2))\")\n",
    "println(\"Precision: $(round(__evaNNC.Precision, digits=2))\")\n",
    "println(\"F1: $(round(__evaNNC.F1, digits=2))\")\n",
    "println(\"MCC: $(round(__evaNNC.MCC, digits=2))\")"
   ]
  },
  {
   "cell_type": "markdown",
   "metadata": {},
   "source": [
    "# AdaBoostClassifier"
   ]
  },
  {
   "cell_type": "code",
   "execution_count": 84,
   "metadata": {},
   "outputs": [
    {
     "name": "stderr",
     "output_type": "stream",
     "text": [
      "┌ Warning: The scitype of `X`, in `machine(model, X, ...)` \n",
      "└ @ MLJBase C:\\Users\\yancf\\.julia\\packages\\MLJBase\\8FWJ9\\src\\machines.jl:73\n",
      "┌ Info: Training \u001b[34mMachine{AdaBoostClassifier} @637\u001b[39m.\n",
      "└ @ MLJBase C:\\Users\\yancf\\.julia\\packages\\MLJBase\\8FWJ9\\src\\machines.jl:317\n",
      "┌ Warning: The classes are un-ordered,\n",
      "│ using: negative='0' and positive='1'.\n",
      "│ To suppress this warning, consider coercing to OrderedFactor.\n",
      "└ @ MLJBase C:\\Users\\yancf\\.julia\\packages\\MLJBase\\8FWJ9\\src\\measures\\confusion_matrix.jl:83\n"
     ]
    }
   ],
   "source": [
    "ABC_model = AdaBoostClassifier()\n",
    "ABC = trainer(ABC_model, cleveland, train, test);\n",
    "__evaABC = _evaluation(ABC, cleveland, test; binary=true);"
   ]
  },
  {
   "cell_type": "code",
   "execution_count": 85,
   "metadata": {},
   "outputs": [
    {
     "data": {
      "text/plain": [
       "              ┌───────────────────────────┐\n",
       "              │       Ground Truth        │\n",
       "┌─────────────┼─────────────┬─────────────┤\n",
       "│  Predicted  │      0      │      1      │\n",
       "├─────────────┼─────────────┼─────────────┤\n",
       "│      0      │     41      │     14      │\n",
       "├─────────────┼─────────────┼─────────────┤\n",
       "│      1      │      7      │     27      │\n",
       "└─────────────┴─────────────┴─────────────┘\n"
      ]
     },
     "execution_count": 85,
     "metadata": {},
     "output_type": "execute_result"
    }
   ],
   "source": [
    "__evaABC.ConfusionMatrix"
   ]
  },
  {
   "cell_type": "code",
   "execution_count": 86,
   "metadata": {},
   "outputs": [
    {
     "name": "stdout",
     "output_type": "stream",
     "text": [
      "Accuracy: 0.76\n",
      "Recall: 0.79\n",
      "Precision: 0.66\n",
      "F1: 0.91\n",
      "MCC: 0.53\n"
     ]
    }
   ],
   "source": [
    "println(\"Accuracy: $(round(__evaABC.Accuracy, digits=2))\")\n",
    "println(\"Recall: $(round(__evaABC.Recall, digits=2))\")\n",
    "println(\"Precision: $(round(__evaABC.Precision, digits=2))\")\n",
    "println(\"F1: $(round(__evaABC.F1, digits=2))\")\n",
    "println(\"MCC: $(round(__evaABC.MCC, digits=2))\")"
   ]
  },
  {
   "cell_type": "markdown",
   "metadata": {},
   "source": [
    "# KNeighborsClassifier"
   ]
  },
  {
   "cell_type": "code",
   "execution_count": 97,
   "metadata": {},
   "outputs": [
    {
     "name": "stdout",
     "output_type": "stream",
     "text": [
      "import MLJScikitLearnInterface ✔\n",
      "import MLJScikitLearnInterface ✔\n"
     ]
    },
    {
     "name": "stderr",
     "output_type": "stream",
     "text": [
      "┌ Info: Loading into module \"Main\": \n",
      "└ @ MLJModels C:\\Users\\yancf\\.julia\\packages\\MLJModels\\5DFoi\\src\\loading.jl:70\n",
      "┌ Warning: New model type being bound to `KNeighborsClassifier3` to avoid conflict with an existing name. \n",
      "└ @ MLJModels C:\\Users\\yancf\\.julia\\packages\\MLJModels\\5DFoi\\src\\loading.jl:78\n",
      "┌ Warning: The scitype of `X`, in `machine(model, X, ...)` \n",
      "└ @ MLJBase C:\\Users\\yancf\\.julia\\packages\\MLJBase\\8FWJ9\\src\\machines.jl:73\n",
      "┌ Info: Training \u001b[34mMachine{KNeighborsClassifier} @909\u001b[39m.\n",
      "└ @ MLJBase C:\\Users\\yancf\\.julia\\packages\\MLJBase\\8FWJ9\\src\\machines.jl:317\n",
      "┌ Warning: The classes are un-ordered,\n",
      "│ using: negative='0' and positive='1'.\n",
      "│ To suppress this warning, consider coercing to OrderedFactor.\n",
      "└ @ MLJBase C:\\Users\\yancf\\.julia\\packages\\MLJBase\\8FWJ9\\src\\measures\\confusion_matrix.jl:83\n"
     ]
    }
   ],
   "source": [
    "KN_model = @load KNeighborsClassifier verbosity=1\n",
    "KN_model = KNeighborsClassifier()\n",
    "KN = trainer(KN_model, cleveland, train, test);\n",
    "__evaKN = _evaluation(KN, cleveland, test; binary=true);"
   ]
  },
  {
   "cell_type": "code",
   "execution_count": 98,
   "metadata": {},
   "outputs": [
    {
     "data": {
      "text/plain": [
       "              ┌───────────────────────────┐\n",
       "              │       Ground Truth        │\n",
       "┌─────────────┼─────────────┬─────────────┤\n",
       "│  Predicted  │      0      │      1      │\n",
       "├─────────────┼─────────────┼─────────────┤\n",
       "│      0      │     39      │     13      │\n",
       "├─────────────┼─────────────┼─────────────┤\n",
       "│      1      │      9      │     28      │\n",
       "└─────────────┴─────────────┴─────────────┘\n"
      ]
     },
     "execution_count": 98,
     "metadata": {},
     "output_type": "execute_result"
    }
   ],
   "source": [
    "__evaKN.ConfusionMatrix"
   ]
  },
  {
   "cell_type": "code",
   "execution_count": 99,
   "metadata": {},
   "outputs": [
    {
     "name": "stdout",
     "output_type": "stream",
     "text": [
      "Accuracy: 0.75\n",
      "Recall: 0.76\n",
      "Precision: 0.68\n",
      "F1: 0.95\n",
      "MCC: 0.5\n"
     ]
    }
   ],
   "source": [
    "println(\"Accuracy: $(round(__evaKN.Accuracy, digits=2))\")\n",
    "println(\"Recall: $(round(__evaKN.Recall, digits=2))\")\n",
    "println(\"Precision: $(round(__evaKN.Precision, digits=2))\")\n",
    "println(\"F1: $(round(__evaKN.F1, digits=2))\")\n",
    "println(\"MCC: $(round(__evaKN.MCC, digits=2))\")"
   ]
  }
 ],
 "metadata": {
  "kernelspec": {
   "display_name": "Julia 1.4.2",
   "language": "julia",
   "name": "julia-1.4"
  },
  "language_info": {
   "file_extension": ".jl",
   "mimetype": "application/julia",
   "name": "julia",
   "version": "1.4.2"
  }
 },
 "nbformat": 4,
 "nbformat_minor": 4
}
